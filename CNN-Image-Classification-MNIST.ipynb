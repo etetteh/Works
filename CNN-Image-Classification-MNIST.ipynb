{
 "cells": [
  {
   "cell_type": "markdown",
   "metadata": {},
   "source": [
    "# 4.  Image Classification\n",
    "### We will build a Convolutional Neural Network (CNN) to classify \n",
    "### handwritten digits from 0 to 1 using the MNIST dataset."
   ]
  },
  {
   "cell_type": "code",
   "execution_count": 1,
   "metadata": {},
   "outputs": [],
   "source": [
    "# import the necessary libraries for this task\n",
    "import torch\n",
    "import torch.nn as nn\n",
    "import torch.nn.functional as F\n",
    "from torchvision import datasets, transforms\n",
    "import matplotlib.pyplot as plt\n",
    "import numpy"
   ]
  },
  {
   "cell_type": "code",
   "execution_count": 2,
   "metadata": {},
   "outputs": [],
   "source": [
    "# function to count number of parameters\n",
    "def get_n_params(model):\n",
    "    np=0\n",
    "    for p in list(model.parameters()):\n",
    "        np += p.nelement()\n",
    "    return np"
   ]
  },
  {
   "cell_type": "markdown",
   "metadata": {},
   "source": [
    "### Load the Dataset (MNIST)"
   ]
  },
  {
   "cell_type": "code",
   "execution_count": 3,
   "metadata": {},
   "outputs": [],
   "source": [
    "# images are 28x28 pixels\n",
    "input_size  = 28*28   \n",
    "\n",
    "# there are 10 classes (digits of 0 to 9)\n",
    "output_size = 10      \n",
    "\n",
    "# Load and transform training and test data\n",
    "train_dataset = datasets.MNIST(root='./data', download=True,\n",
    "                            train=True, transform=transforms.Compose([\n",
    "                            transforms.ToTensor(),\n",
    "                            transforms.Normalize((0.1307,), (0.3081,))]))\n",
    "\n",
    "test_dataset = datasets.MNIST(root='./data', \n",
    "                           train=False, transform=transforms.Compose([\n",
    "                            transforms.ToTensor(),\n",
    "                            transforms.Normalize((0.1307,), (0.3081,))]))\n",
    "\n",
    "train_loader = torch.utils.data.DataLoader(dataset=train_dataset, \n",
    "                                           batch_size=64, \n",
    "                                           shuffle=True)\n",
    "\n",
    "test_loader = torch.utils.data.DataLoader(dataset=test_dataset, \n",
    "                                          batch_size=1000, \n",
    "                                          shuffle=False)"
   ]
  },
  {
   "cell_type": "markdown",
   "metadata": {},
   "source": [
    "###  4.1  New Model Class"
   ]
  },
  {
   "cell_type": "code",
   "execution_count": 4,
   "metadata": {},
   "outputs": [],
   "source": [
    "# We create a model with two convolution layers and one fully connected layer at the end\n",
    "## Perform activations using  Rectified linear Unit (Relu) and Max-pooling or\n",
    "## Average pooling after each convolution. Finally, add a soft(arg)max after the fully \n",
    "## connected layer.\n",
    "\n",
    "class CNN(nn.Module):\n",
    "    def __init__(self, input_size, conv_kernel, pooling_kernel, stride_size, zero_padding, max_pooling):\n",
    "        super(CNN, self).__init__()\n",
    "        \n",
    "        # First Convolution\n",
    "        if zero_padding is True:\n",
    "            self.conv_1 = nn.Conv2d(in_channels=1, out_channels=16, kernel_size=conv_kernel, stride=stride_size, padding=2)\n",
    "        else:\n",
    "            self.conv_1 = nn.Conv2d(in_channels=1, out_channels=16, kernel_size=conv_kernel, stride=stride_size, padding=0)\n",
    "        self.relu_1 = nn.ReLU()\n",
    "        \n",
    "        \n",
    "        # First Pooling\n",
    "        if max_pooling is True:\n",
    "            # Perform Max pooling\n",
    "            self.pool_1 = nn.MaxPool2d(kernel_size=pooling_kernel, stride=stride_size)\n",
    "        else:\n",
    "            # Perform Average pooling\n",
    "            self.pool_1 = nn.AvgPool2d(kernel_size=pooling_kernel, stride=stride_size)\n",
    "            \n",
    "        # Second Convolution\n",
    "        if zero_padding is True:\n",
    "            self.conv_2 = nn.Conv2d(in_channels=16, out_channels=32, kernel_size=conv_kernel, stride=stride_size, padding=2)\n",
    "        else:\n",
    "            self.conv_2 = nn.Conv2d(in_channels=16, out_channels=32, kernel_size=conv_kernel, stride=stride_size, padding=0)\n",
    "        self.relu_2 = nn.ReLU()\n",
    "        \n",
    "        # Second Pooling\n",
    "        if max_pooling is True:\n",
    "            # Perform Max pooling\n",
    "            self.pool_2 = nn.MaxPool2d(kernel_size=pooling_kernel, stride=stride_size)\n",
    "        else:\n",
    "            # Perform Average pooling\n",
    "            self.pool_2 = nn.AvgPool2d(kernel_size=pooling_kernel, stride=stride_size)\n",
    "        \n",
    "        # Fully Connected Layer\n",
    "        if zero_padding is True:\n",
    "            self.fc = nn.Linear(32 * 7 * 7, 10)\n",
    "        else:\n",
    "            self.fc = nn.Linear(32 * 4 * 4, 10)\n",
    "        \n",
    "        self.soft_arg_max = nn.LogSoftmax()\n",
    "        \n",
    "    def forward(self, x):\n",
    "        # First Convolution\n",
    "        output = self.conv_1(x)\n",
    "        output = self.relu_1(output)\n",
    "        \n",
    "        # Pooling\n",
    "        output = self.pool_1(output)\n",
    "        \n",
    "        # Second Convolution \n",
    "        output = self.conv_2(output)\n",
    "        output = self.relu_2(output)\n",
    "        \n",
    "        # Pooling \n",
    "        output = self.pool_2(output)\n",
    "        \n",
    "        # Resize\n",
    "        output = output.view(output.size(0), -1)\n",
    "\n",
    "        # Dense\n",
    "        output = self.fc(output)   \n",
    "        output = self.soft_arg_max(output, dim=1)\n",
    "        \n",
    "        return output"
   ]
  },
  {
   "cell_type": "markdown",
   "metadata": {},
   "source": [
    "### 4.2   Zero Padding Model Tensors\n",
    "Instantiate Model Class"
   ]
  },
  {
   "cell_type": "code",
   "execution_count": 5,
   "metadata": {},
   "outputs": [
    {
     "data": {
      "text/plain": [
       "CNN(\n",
       "  (conv_1): Conv2d(1, 16, kernel_size=(5, 5), stride=(1, 1), padding=(2, 2))\n",
       "  (relu_1): ReLU()\n",
       "  (pool_1): MaxPool2d(kernel_size=2, stride=1, padding=0, dilation=1, ceil_mode=False)\n",
       "  (conv_2): Conv2d(16, 32, kernel_size=(5, 5), stride=(1, 1), padding=(2, 2))\n",
       "  (relu_2): ReLU()\n",
       "  (pool_2): MaxPool2d(kernel_size=2, stride=1, padding=0, dilation=1, ceil_mode=False)\n",
       "  (fc): Linear(in_features=1568, out_features=10, bias=True)\n",
       "  (soft_arg_max): LogSoftmax()\n",
       ")"
      ]
     },
     "execution_count": 5,
     "metadata": {},
     "output_type": "execute_result"
    }
   ],
   "source": [
    "model_1 = CNN(input_size, conv_kernel=5, pooling_kernel=2,  stride_size=1, zero_padding=True, max_pooling=True)\n",
    "model_1"
   ]
  },
  {
   "cell_type": "markdown",
   "metadata": {},
   "source": [
    "### Parameters"
   ]
  },
  {
   "cell_type": "code",
   "execution_count": 6,
   "metadata": {},
   "outputs": [
    {
     "name": "stdout",
     "output_type": "stream",
     "text": [
      "6\n",
      "torch.Size([16, 1, 5, 5])\n",
      "torch.Size([16])\n",
      "torch.Size([32, 16, 5, 5])\n",
      "torch.Size([32])\n",
      "torch.Size([10, 1568])\n",
      "torch.Size([10])\n",
      "Number of parameters: 28938\n"
     ]
    }
   ],
   "source": [
    "# Input parameter sizes\n",
    "params = list(model_1.parameters())\n",
    "print(len(params))\n",
    "\n",
    "for i in range(len(params)):\n",
    "    print(params[i].size())\n",
    "\n",
    "# Total number of parameters\n",
    "print('Number of parameters: {}'.format(get_n_params(model_1)))"
   ]
  },
  {
   "cell_type": "markdown",
   "metadata": {},
   "source": [
    "### 4.3   Valid Padding Model Tensors\n",
    "Instantiate Model Class\n"
   ]
  },
  {
   "cell_type": "code",
   "execution_count": 7,
   "metadata": {},
   "outputs": [
    {
     "data": {
      "text/plain": [
       "CNN(\n",
       "  (conv_1): Conv2d(1, 16, kernel_size=(5, 5), stride=(1, 1))\n",
       "  (relu_1): ReLU()\n",
       "  (pool_1): MaxPool2d(kernel_size=2, stride=1, padding=0, dilation=1, ceil_mode=False)\n",
       "  (conv_2): Conv2d(16, 32, kernel_size=(5, 5), stride=(1, 1))\n",
       "  (relu_2): ReLU()\n",
       "  (pool_2): MaxPool2d(kernel_size=2, stride=1, padding=0, dilation=1, ceil_mode=False)\n",
       "  (fc): Linear(in_features=512, out_features=10, bias=True)\n",
       "  (soft_arg_max): LogSoftmax()\n",
       ")"
      ]
     },
     "execution_count": 7,
     "metadata": {},
     "output_type": "execute_result"
    }
   ],
   "source": [
    "model_2 = CNN(input_size, conv_kernel=5, pooling_kernel=2,  stride_size=1, zero_padding=False, max_pooling=True)\n",
    "model_2"
   ]
  },
  {
   "cell_type": "markdown",
   "metadata": {},
   "source": [
    "### Parameters"
   ]
  },
  {
   "cell_type": "code",
   "execution_count": 8,
   "metadata": {},
   "outputs": [
    {
     "name": "stdout",
     "output_type": "stream",
     "text": [
      "6\n",
      "torch.Size([16, 1, 5, 5])\n",
      "torch.Size([16])\n",
      "torch.Size([32, 16, 5, 5])\n",
      "torch.Size([32])\n",
      "torch.Size([10, 512])\n",
      "torch.Size([10])\n",
      "Number of parameters: 18378\n"
     ]
    }
   ],
   "source": [
    "# Input parameter sizes\n",
    "params = list(model_2.parameters())\n",
    "print(len(params))\n",
    "\n",
    "for i in range(len(params)):\n",
    "    print(params[i].size())\n",
    "\n",
    "# Total number of parameters\n",
    "print('Number of parameters: {}'.format(get_n_params(model_2)))"
   ]
  },
  {
   "cell_type": "code",
   "execution_count": null,
   "metadata": {},
   "outputs": [],
   "source": []
  }
 ],
 "metadata": {
  "kernelspec": {
   "display_name": "AIMS DL",
   "language": "python",
   "name": "aims-ml"
  },
  "language_info": {
   "codemirror_mode": {
    "name": "ipython",
    "version": 3
   },
   "file_extension": ".py",
   "mimetype": "text/x-python",
   "name": "python",
   "nbconvert_exporter": "python",
   "pygments_lexer": "ipython3",
   "version": "3.6.6"
  }
 },
 "nbformat": 4,
 "nbformat_minor": 2
}
